{
  "cells": [
    {
      "cell_type": "code",
      "execution_count": null,
      "metadata": {
        "id": "uK4t62l8fStB"
      },
      "outputs": [],
      "source": [
        "\n",
        "# IMPORTANT: RUN THIS CELL IN ORDER TO IMPORT YOUR KAGGLE DATA SOURCES\n",
        "# TO THE CORRECT LOCATION (/kaggle/input) IN YOUR NOTEBOOK,\n",
        "# THEN FEEL FREE TO DELETE THIS CELL.\n",
        "# NOTE: THIS NOTEBOOK ENVIRONMENT DIFFERS FROM KAGGLE'S PYTHON\n",
        "# ENVIRONMENT SO THERE MAY BE MISSING LIBRARIES USED BY YOUR\n",
        "# NOTEBOOK.\n",
        "\n",
        "import os\n",
        "import sys\n",
        "from tempfile import NamedTemporaryFile\n",
        "from urllib.request import urlopen\n",
        "from urllib.parse import unquote, urlparse\n",
        "from urllib.error import HTTPError\n",
        "from zipfile import ZipFile\n",
        "import tarfile\n",
        "import shutil\n",
        "\n",
        "CHUNK_SIZE = 40960\n",
        "DATA_SOURCE_MAPPING = 'breast-histopathology-images:https%3A%2F%2Fstorage.googleapis.com%2Fkaggle-data-sets%2F7415%2F10564%2Fbundle%2Farchive.zip%3FX-Goog-Algorithm%3DGOOG4-RSA-SHA256%26X-Goog-Credential%3Dgcp-kaggle-com%2540kaggle-161607.iam.gserviceaccount.com%252F20240603%252Fauto%252Fstorage%252Fgoog4_request%26X-Goog-Date%3D20240603T170015Z%26X-Goog-Expires%3D259200%26X-Goog-SignedHeaders%3Dhost%26X-Goog-Signature%3D382f4a7d14b725e9663100926af9455c4af4343a55b7c7a91326a19cdf6247260d29a1374e75e8c4a9f3c4195ab26c4aa6c58495a66da7d73d12157f1ba0a1158d725b6b983d52397446e38204bb9ad31e882008021d055f9f0818521ef7fb8f47902d1df11fb7c47b07cdb0964de3e1e0215501b6d1d581282065332949439b1c2253114eaa32c257d372cce48d1fafcd7ec3b46217fa4f12814efea3b674464d621ba911a5fef4637bb218cf0719db880e024c61aa5a4eea2241f53dd9a1386adb375783b15a73ab78d65a7b11dcf2d8fba239b499671d00b754c7690955b929e9de3daca3f3a54a5936882eefabb9f38c520557be8dafe22211358197cd20'\n",
        "\n",
        "KAGGLE_INPUT_PATH='/kaggle/input'\n",
        "KAGGLE_WORKING_PATH='/kaggle/working'\n",
        "KAGGLE_SYMLINK='kaggle'\n",
        "\n",
        "!umount /kaggle/input/ 2> /dev/null\n",
        "shutil.rmtree('/kaggle/input', ignore_errors=True)\n",
        "os.makedirs(KAGGLE_INPUT_PATH, 0o777, exist_ok=True)\n",
        "os.makedirs(KAGGLE_WORKING_PATH, 0o777, exist_ok=True)\n",
        "\n",
        "try:\n",
        "  os.symlink(KAGGLE_INPUT_PATH, os.path.join(\"..\", 'input'), target_is_directory=True)\n",
        "except FileExistsError:\n",
        "  pass\n",
        "try:\n",
        "  os.symlink(KAGGLE_WORKING_PATH, os.path.join(\"..\", 'working'), target_is_directory=True)\n",
        "except FileExistsError:\n",
        "  pass\n",
        "\n",
        "for data_source_mapping in DATA_SOURCE_MAPPING.split(','):\n",
        "    directory, download_url_encoded = data_source_mapping.split(':')\n",
        "    download_url = unquote(download_url_encoded)\n",
        "    filename = urlparse(download_url).path\n",
        "    destination_path = os.path.join(KAGGLE_INPUT_PATH, directory)\n",
        "    try:\n",
        "        with urlopen(download_url) as fileres, NamedTemporaryFile() as tfile:\n",
        "            total_length = fileres.headers['content-length']\n",
        "            print(f'Downloading {directory}, {total_length} bytes compressed')\n",
        "            dl = 0\n",
        "            data = fileres.read(CHUNK_SIZE)\n",
        "            while len(data) > 0:\n",
        "                dl += len(data)\n",
        "                tfile.write(data)\n",
        "                done = int(50 * dl / int(total_length))\n",
        "                sys.stdout.write(f\"\\r[{'=' * done}{' ' * (50-done)}] {dl} bytes downloaded\")\n",
        "                sys.stdout.flush()\n",
        "                data = fileres.read(CHUNK_SIZE)\n",
        "            if filename.endswith('.zip'):\n",
        "              with ZipFile(tfile) as zfile:\n",
        "                zfile.extractall(destination_path)\n",
        "            else:\n",
        "              with tarfile.open(tfile.name) as tarfile:\n",
        "                tarfile.extractall(destination_path)\n",
        "            print(f'\\nDownloaded and uncompressed: {directory}')\n",
        "    except HTTPError as e:\n",
        "        print(f'Failed to load (likely expired) {download_url} to path {destination_path}')\n",
        "        continue\n",
        "    except OSError as e:\n",
        "        print(f'Failed to load {download_url} to path {destination_path}')\n",
        "        continue\n",
        "\n",
        "print('Data source import complete.')\n"
      ]
    },
    {
      "cell_type": "code",
      "execution_count": 1,
      "metadata": {
        "execution": {
          "iopub.execute_input": "2023-09-02T11:17:48.746172Z",
          "iopub.status.busy": "2023-09-02T11:17:48.745679Z",
          "iopub.status.idle": "2023-09-02T11:17:48.753818Z",
          "shell.execute_reply": "2023-09-02T11:17:48.752372Z",
          "shell.execute_reply.started": "2023-09-02T11:17:48.746139Z"
        },
        "id": "xNjWmyHySWgg",
        "trusted": true
      },
      "outputs": [],
      "source": [
        "import torch\n",
        "from torch.utils.data import DataLoader\n",
        "import torchvision.datasets as datasets\n",
        "import matplotlib.pyplot as plt\n",
        "import torch\n",
        "import torch.nn as nn\n",
        "import torch.optim as optim\n",
        "from torchvision import datasets, transforms\n",
        "from glob import glob\n",
        "import pandas as pd\n",
        "from torch.utils.data import Dataset\n",
        "from torch.utils.data import DataLoader\n",
        "from sklearn.model_selection import train_test_split\n",
        "import cv2\n",
        "import numpy as np\n",
        "from sklearn.svm import SVC\n",
        "import torchvision.models as models"
      ]
    },
    {
      "cell_type": "code",
      "execution_count": null,
      "metadata": {
        "execution": {
          "iopub.execute_input": "2023-09-02T11:17:57.532593Z",
          "iopub.status.busy": "2023-09-02T11:17:57.532226Z",
          "iopub.status.idle": "2023-09-02T11:17:57.560895Z",
          "shell.execute_reply": "2023-09-02T11:17:57.559936Z",
          "shell.execute_reply.started": "2023-09-02T11:17:57.532562Z"
        },
        "id": "NSq8hpjVSWgn",
        "trusted": true
      },
      "outputs": [],
      "source": [
        "device = torch.device(\"cuda\" if torch.cuda.is_available() else \"cpu\")"
      ]
    },
    {
      "cell_type": "code",
      "execution_count": null,
      "metadata": {
        "execution": {
          "iopub.execute_input": "2023-09-02T11:18:03.595203Z",
          "iopub.status.busy": "2023-09-02T11:18:03.594821Z",
          "iopub.status.idle": "2023-09-02T11:18:03.603056Z",
          "shell.execute_reply": "2023-09-02T11:18:03.601836Z",
          "shell.execute_reply.started": "2023-09-02T11:18:03.595173Z"
        },
        "id": "Z_UwMuaGSWgo",
        "trusted": true
      },
      "outputs": [],
      "source": [
        "device"
      ]
    },
    {
      "cell_type": "code",
      "execution_count": null,
      "metadata": {
        "execution": {
          "iopub.execute_input": "2023-09-02T11:18:06.666685Z",
          "iopub.status.busy": "2023-09-02T11:18:06.665863Z",
          "iopub.status.idle": "2023-09-02T11:20:06.872644Z",
          "shell.execute_reply": "2023-09-02T11:20:06.871591Z",
          "shell.execute_reply.started": "2023-09-02T11:18:06.666653Z"
        },
        "id": "C7Pq575fSWgr",
        "trusted": true
      },
      "outputs": [],
      "source": [
        "imagePatches = glob('/kaggle/input/breast-histopathology-images/*/*/*')"
      ]
    },
    {
      "cell_type": "code",
      "execution_count": null,
      "metadata": {
        "execution": {
          "iopub.execute_input": "2023-09-02T11:20:37.148345Z",
          "iopub.status.busy": "2023-09-02T11:20:37.147997Z",
          "iopub.status.idle": "2023-09-02T11:20:37.154577Z",
          "shell.execute_reply": "2023-09-02T11:20:37.153647Z",
          "shell.execute_reply.started": "2023-09-02T11:20:37.148318Z"
        },
        "id": "9JNjzmgMSWgs",
        "trusted": true
      },
      "outputs": [],
      "source": [
        "len(imagePatches)"
      ]
    },
    {
      "cell_type": "code",
      "execution_count": null,
      "metadata": {
        "execution": {
          "iopub.execute_input": "2023-09-02T11:20:41.466668Z",
          "iopub.status.busy": "2023-09-02T11:20:41.466317Z",
          "iopub.status.idle": "2023-09-02T11:20:41.52375Z",
          "shell.execute_reply": "2023-09-02T11:20:41.522705Z",
          "shell.execute_reply.started": "2023-09-02T11:20:41.466637Z"
        },
        "id": "4SllYmrRSWgt",
        "trusted": true
      },
      "outputs": [],
      "source": [
        "imagePatches = [imagePatches[i] for i in range(len(imagePatches)) if 'IDC' not in imagePatches[i]]"
      ]
    },
    {
      "cell_type": "code",
      "execution_count": null,
      "metadata": {
        "execution": {
          "iopub.execute_input": "2023-09-02T11:20:43.639827Z",
          "iopub.status.busy": "2023-09-02T11:20:43.639488Z",
          "iopub.status.idle": "2023-09-02T11:20:43.647519Z",
          "shell.execute_reply": "2023-09-02T11:20:43.646417Z",
          "shell.execute_reply.started": "2023-09-02T11:20:43.639799Z"
        },
        "id": "5qFl7n8WSWgt",
        "trusted": true
      },
      "outputs": [],
      "source": [
        "len(imagePatches)"
      ]
    },
    {
      "cell_type": "code",
      "execution_count": null,
      "metadata": {
        "execution": {
          "iopub.execute_input": "2023-09-02T11:20:46.402867Z",
          "iopub.status.busy": "2023-09-02T11:20:46.40173Z",
          "iopub.status.idle": "2023-09-02T11:20:46.521489Z",
          "shell.execute_reply": "2023-09-02T11:20:46.520026Z",
          "shell.execute_reply.started": "2023-09-02T11:20:46.402825Z"
        },
        "id": "ymKMkpvuSWgu",
        "trusted": true
      },
      "outputs": [],
      "source": [
        "y = []\n",
        "for img in imagePatches:\n",
        "    if img.endswith('class0.png'):\n",
        "        y.append(0)\n",
        "    elif img.endswith('class1.png'):\n",
        "        y.append(1)\n",
        "\n",
        "print(len(y))"
      ]
    },
    {
      "cell_type": "code",
      "execution_count": null,
      "metadata": {
        "execution": {
          "iopub.execute_input": "2023-09-02T11:20:49.729006Z",
          "iopub.status.busy": "2023-09-02T11:20:49.728627Z",
          "iopub.status.idle": "2023-09-02T11:20:49.736897Z",
          "shell.execute_reply": "2023-09-02T11:20:49.735744Z",
          "shell.execute_reply.started": "2023-09-02T11:20:49.728975Z"
        },
        "id": "S2IX9nG2SWgv",
        "trusted": true
      },
      "outputs": [],
      "source": [
        "class MyDataset(Dataset):\n",
        "    def __init__(self, df_data,transform=None):\n",
        "        super().__init__()\n",
        "        self.df = df_data.values\n",
        "\n",
        "        self.transform = transform\n",
        "\n",
        "    def __len__(self):\n",
        "        return len(self.df)\n",
        "\n",
        "    def __getitem__(self, index):\n",
        "        img_path,label = self.df[index]\n",
        "\n",
        "        image = cv2.imread(img_path)\n",
        "        image = cv2.resize(image, (50,50))\n",
        "        if self.transform is not None:\n",
        "            image = self.transform(image)\n",
        "        return image, label"
      ]
    },
    {
      "cell_type": "code",
      "execution_count": null,
      "metadata": {
        "execution": {
          "iopub.execute_input": "2023-09-02T11:20:56.055795Z",
          "iopub.status.busy": "2023-09-02T11:20:56.055434Z",
          "iopub.status.idle": "2023-09-02T11:20:56.267502Z",
          "shell.execute_reply": "2023-09-02T11:20:56.266419Z",
          "shell.execute_reply.started": "2023-09-02T11:20:56.055767Z"
        },
        "id": "Ja_yhpYtSWg-",
        "trusted": true
      },
      "outputs": [],
      "source": [
        "images_df = pd.DataFrame()\n",
        "images_df[\"images\"] = imagePatches\n",
        "images_df[\"labels\"] = y\n",
        "images_df.head()"
      ]
    },
    {
      "cell_type": "code",
      "execution_count": null,
      "metadata": {
        "execution": {
          "iopub.execute_input": "2023-09-02T11:20:59.859266Z",
          "iopub.status.busy": "2023-09-02T11:20:59.858829Z",
          "iopub.status.idle": "2023-09-02T11:21:00.210769Z",
          "shell.execute_reply": "2023-09-02T11:21:00.209839Z",
          "shell.execute_reply.started": "2023-09-02T11:20:59.859231Z"
        },
        "id": "B1iTxwN4SWg_",
        "trusted": true
      },
      "outputs": [],
      "source": [
        "train, test = train_test_split(images_df, stratify=images_df.labels, test_size=0.2,random_state=42)\n",
        "train, val = train_test_split(train, stratify=train.labels, test_size=0.2,random_state=42)\n",
        "len(train), len(val),len(test)"
      ]
    },
    {
      "cell_type": "code",
      "execution_count": null,
      "metadata": {
        "execution": {
          "iopub.execute_input": "2023-09-02T11:21:04.928114Z",
          "iopub.status.busy": "2023-09-02T11:21:04.927648Z",
          "iopub.status.idle": "2023-09-02T11:21:04.935268Z",
          "shell.execute_reply": "2023-09-02T11:21:04.934122Z",
          "shell.execute_reply.started": "2023-09-02T11:21:04.928077Z"
        },
        "id": "kiQqz8cphi8m",
        "trusted": true
      },
      "outputs": [],
      "source": [
        "num_epochs = 20\n",
        "num_classes = 2\n",
        "batch_size = 128\n",
        "learning_rate = 0.0001"
      ]
    },
    {
      "cell_type": "code",
      "execution_count": null,
      "metadata": {
        "execution": {
          "iopub.execute_input": "2023-09-02T11:21:17.840446Z",
          "iopub.status.busy": "2023-09-02T11:21:17.839722Z",
          "iopub.status.idle": "2023-09-02T11:21:17.87422Z",
          "shell.execute_reply": "2023-09-02T11:21:17.873267Z",
          "shell.execute_reply.started": "2023-09-02T11:21:17.840406Z"
        },
        "id": "6Yp1w8d0SWhB",
        "trusted": true
      },
      "outputs": [],
      "source": [
        "trans_train = transforms.Compose([transforms.ToPILImage(),\n",
        "                                  transforms.Pad(10, padding_mode='reflect'),\n",
        "                                  transforms.RandomHorizontalFlip(),\n",
        "                                  transforms.RandomVerticalFlip(),\n",
        "                                  transforms.RandomRotation(20),\n",
        "                                  transforms.ToTensor(),\n",
        "                                  transforms.Normalize(mean=[0.5, 0.5, 0.5],std=[0.5, 0.5, 0.5])])\n",
        "\n",
        "trans_valid = transforms.Compose([transforms.ToPILImage(),\n",
        "                                  transforms.Pad(10, padding_mode='reflect'),\n",
        "                                  transforms.ToTensor(),\n",
        "                                  transforms.Normalize(mean=[0.5, 0.5, 0.5],std=[0.5, 0.5, 0.5])])\n",
        "\n",
        "dataset_train = MyDataset(df_data=train, transform=trans_train)\n",
        "dataset_valid = MyDataset(df_data=val,transform=trans_valid)\n",
        "dataset_test = MyDataset(df_data=test,transform=trans_valid)\n",
        "\n",
        "loader_train = DataLoader(dataset = dataset_train, batch_size=batch_size, shuffle=True, num_workers=0)\n",
        "loader_valid = DataLoader(dataset = dataset_valid, batch_size=batch_size//2, shuffle=True, num_workers=0)\n",
        "loader_test = DataLoader(dataset = dataset_test, batch_size=batch_size//2, shuffle=False, num_workers=0)"
      ]
    },
    {
      "cell_type": "code",
      "execution_count": 2,
      "metadata": {
        "execution": {
          "iopub.execute_input": "2023-09-02T11:21:27.863088Z",
          "iopub.status.busy": "2023-09-02T11:21:27.862637Z",
          "iopub.status.idle": "2023-09-02T11:21:32.392733Z",
          "shell.execute_reply": "2023-09-02T11:21:32.39132Z",
          "shell.execute_reply.started": "2023-09-02T11:21:27.86305Z"
        },
        "id": "tmKJFq9NSWpi",
        "trusted": true
      },
      "outputs": [
        {
          "ename": "NameError",
          "evalue": "name 'num_classes' is not defined",
          "output_type": "error",
          "traceback": [
            "\u001b[1;31m---------------------------------------------------------------------------\u001b[0m",
            "\u001b[1;31mNameError\u001b[0m                                 Traceback (most recent call last)",
            "Cell \u001b[1;32mIn[2], line 2\u001b[0m\n\u001b[0;32m      1\u001b[0m vggmodel \u001b[38;5;241m=\u001b[39m models\u001b[38;5;241m.\u001b[39mvgg16(weights\u001b[38;5;241m=\u001b[39m\u001b[38;5;124m'\u001b[39m\u001b[38;5;124mIMAGENET1K_V1\u001b[39m\u001b[38;5;124m'\u001b[39m)\n\u001b[1;32m----> 2\u001b[0m vggmodel\u001b[38;5;241m.\u001b[39mclassifier[\u001b[38;5;241m6\u001b[39m] \u001b[38;5;241m=\u001b[39m nn\u001b[38;5;241m.\u001b[39mLinear(\u001b[38;5;241m4096\u001b[39m, \u001b[43mnum_classes\u001b[49m)\n",
            "\u001b[1;31mNameError\u001b[0m: name 'num_classes' is not defined"
          ]
        }
      ],
      "source": [
        "vggmodel = models.vgg16(weights='IMAGENET1K_V1')\n",
        "vggmodel.classifier[6] = nn.Linear(4096, num_classes)"
      ]
    },
    {
      "cell_type": "code",
      "execution_count": null,
      "metadata": {
        "execution": {
          "iopub.execute_input": "2023-09-02T11:21:37.043654Z",
          "iopub.status.busy": "2023-09-02T11:21:37.043293Z",
          "iopub.status.idle": "2023-09-02T11:21:37.052378Z",
          "shell.execute_reply": "2023-09-02T11:21:37.048917Z",
          "shell.execute_reply.started": "2023-09-02T11:21:37.043622Z"
        },
        "id": "EHhx0f9Thi8u",
        "trusted": true
      },
      "outputs": [],
      "source": [
        "for n, p in vggmodel.named_parameters():\n",
        "    print(p.requires_grad)"
      ]
    },
    {
      "cell_type": "code",
      "execution_count": null,
      "metadata": {
        "execution": {
          "iopub.execute_input": "2023-09-02T11:21:42.809303Z",
          "iopub.status.busy": "2023-09-02T11:21:42.808959Z",
          "iopub.status.idle": "2023-09-02T11:21:42.814835Z",
          "shell.execute_reply": "2023-09-02T11:21:42.813932Z",
          "shell.execute_reply.started": "2023-09-02T11:21:42.809275Z"
        },
        "id": "BiNCdRmlhi8v",
        "trusted": true
      },
      "outputs": [],
      "source": [
        "criterion = nn.CrossEntropyLoss()\n",
        "optimizer = optim.SGD(vggmodel.parameters(), lr=learning_rate, momentum=0.9)"
      ]
    },
    {
      "cell_type": "code",
      "execution_count": null,
      "metadata": {
        "execution": {
          "iopub.execute_input": "2023-09-02T11:21:46.084369Z",
          "iopub.status.busy": "2023-09-02T11:21:46.083937Z",
          "iopub.status.idle": "2023-09-02T11:21:49.496107Z",
          "shell.execute_reply": "2023-09-02T11:21:49.495161Z",
          "shell.execute_reply.started": "2023-09-02T11:21:46.084335Z"
        },
        "id": "P1fF3O18SWpy",
        "trusted": true
      },
      "outputs": [],
      "source": [
        "vggmodel.to(device)"
      ]
    },
    {
      "cell_type": "code",
      "execution_count": null,
      "metadata": {
        "execution": {
          "iopub.execute_input": "2023-09-02T11:21:55.31397Z",
          "iopub.status.busy": "2023-09-02T11:21:55.312868Z",
          "iopub.status.idle": "2023-09-02T11:21:55.319184Z",
          "shell.execute_reply": "2023-09-02T11:21:55.318152Z",
          "shell.execute_reply.started": "2023-09-02T11:21:55.313925Z"
        },
        "id": "YiZylfPSSWpz",
        "trusted": true
      },
      "outputs": [],
      "source": [
        "vgg_best_accuracy = 0\n",
        "vgg_best_weights = None"
      ]
    },
    {
      "cell_type": "code",
      "execution_count": null,
      "metadata": {
        "execution": {
          "iopub.execute_input": "2023-09-02T11:21:59.782938Z",
          "iopub.status.busy": "2023-09-02T11:21:59.782563Z",
          "iopub.status.idle": "2023-09-02T11:21:59.788529Z",
          "shell.execute_reply": "2023-09-02T11:21:59.787177Z",
          "shell.execute_reply.started": "2023-09-02T11:21:59.782905Z"
        },
        "id": "3V7zUhE3ve6F",
        "trusted": true
      },
      "outputs": [],
      "source": [
        "trl = []\n",
        "trac = []\n",
        "vall = []\n",
        "valac = []"
      ]
    },
    {
      "cell_type": "code",
      "execution_count": null,
      "metadata": {
        "execution": {
          "iopub.execute_input": "2023-09-02T11:22:06.571562Z",
          "iopub.status.busy": "2023-09-02T11:22:06.570763Z",
          "iopub.status.idle": "2023-09-02T15:17:07.107256Z",
          "shell.execute_reply": "2023-09-02T15:17:07.106161Z",
          "shell.execute_reply.started": "2023-09-02T11:22:06.571526Z"
        },
        "id": "NmBVi8ZpSWpz",
        "trusted": true
      },
      "outputs": [],
      "source": [
        "for epoch in range(num_epochs):\n",
        "    train_loss = 0.0\n",
        "    train_correct = 0\n",
        "    train_total = 0\n",
        "    vggmodel.train()\n",
        "    for i, (inputs, targets) in enumerate(loader_train):\n",
        "        inputs = inputs.to(device)\n",
        "        targets = targets.to(device)\n",
        "        optimizer.zero_grad()\n",
        "        outputs = vggmodel(inputs)\n",
        "        loss = criterion(outputs, targets)\n",
        "        loss.backward()\n",
        "        optimizer.step()\n",
        "\n",
        "        _, predicted = torch.max(outputs.data, 1)\n",
        "        train_loss += loss.item() * inputs.size(0)\n",
        "        train_correct += (predicted == targets).sum().item()\n",
        "        train_total += targets.size(0)\n",
        "\n",
        "    train_loss /= len(train)\n",
        "    train_acc = train_correct / train_total\n",
        "\n",
        "    trl.append(train_loss)\n",
        "    trac.append(train_acc)\n",
        "\n",
        "\n",
        "    val_loss = 0.0\n",
        "    val_correct = 0\n",
        "    val_total = 0\n",
        "    vggmodel.eval()\n",
        "    with torch.no_grad():\n",
        "        for inputs, targets in loader_valid:\n",
        "            inputs = inputs.to(device)\n",
        "            targets = targets.to(device)\n",
        "            outputs = vggmodel(inputs)\n",
        "            loss = criterion(outputs, targets)\n",
        "            _, predicted = torch.max(outputs.data, 1)\n",
        "            val_loss += loss.item() * inputs.size(0)\n",
        "            val_correct += (predicted == targets).sum().item()\n",
        "            val_total += targets.size(0)\n",
        "\n",
        "    val_loss /= len(val)\n",
        "    val_acc = val_correct / val_total\n",
        "\n",
        "    vall.append(val_loss)\n",
        "    valac.append(val_acc)\n",
        "\n",
        "    if val_acc > vgg_best_accuracy:\n",
        "            vgg_best_accuracy = val_acc\n",
        "            vgg_best_weights = vggmodel.state_dict()\n",
        "\n",
        "    print(f\"Epoch {epoch+1} - Train Loss: {train_loss:.4f}, Train Acc: {train_acc:.4f}, Val Loss: {val_loss:.4f}, Val Acc: {val_acc:.4f}\")"
      ]
    },
    {
      "cell_type": "code",
      "execution_count": null,
      "metadata": {
        "execution": {
          "iopub.execute_input": "2023-09-02T15:18:34.005463Z",
          "iopub.status.busy": "2023-09-02T15:18:34.005104Z",
          "iopub.status.idle": "2023-09-02T15:18:34.330663Z",
          "shell.execute_reply": "2023-09-02T15:18:34.329764Z",
          "shell.execute_reply.started": "2023-09-02T15:18:34.005431Z"
        },
        "id": "b_UY1QCwve6I",
        "trusted": true
      },
      "outputs": [],
      "source": [
        "plt.plot(valac)\n",
        "plt.plot(trac)\n",
        "plt.xlabel('Epoch')\n",
        "plt.ylabel('Accuracy')\n",
        "plt.legend(['validation','train'])"
      ]
    },
    {
      "cell_type": "code",
      "execution_count": null,
      "metadata": {
        "execution": {
          "iopub.execute_input": "2023-09-02T15:18:42.378661Z",
          "iopub.status.busy": "2023-09-02T15:18:42.378277Z",
          "iopub.status.idle": "2023-09-02T15:18:42.385101Z",
          "shell.execute_reply": "2023-09-02T15:18:42.384079Z",
          "shell.execute_reply.started": "2023-09-02T15:18:42.378629Z"
        },
        "id": "pd5k8gWCve6J",
        "trusted": true
      },
      "outputs": [],
      "source": [
        "cuda_tensor = torch.tensor(vall)\n",
        "vls = cuda_tensor.cpu()\n",
        "cuda_tensor = torch.tensor(trl)\n",
        "tls = cuda_tensor.cpu()"
      ]
    },
    {
      "cell_type": "code",
      "execution_count": null,
      "metadata": {
        "execution": {
          "iopub.execute_input": "2023-09-02T15:18:49.996278Z",
          "iopub.status.busy": "2023-09-02T15:18:49.995925Z",
          "iopub.status.idle": "2023-09-02T15:18:50.301465Z",
          "shell.execute_reply": "2023-09-02T15:18:50.300573Z",
          "shell.execute_reply.started": "2023-09-02T15:18:49.99625Z"
        },
        "id": "XJ6akYjive6J",
        "trusted": true
      },
      "outputs": [],
      "source": [
        "plt.plot(vls)\n",
        "plt.plot(tls)\n",
        "plt.xlabel('Epoch')\n",
        "plt.ylabel('Loss')\n",
        "plt.legend(['validation','train'])"
      ]
    },
    {
      "cell_type": "code",
      "execution_count": null,
      "metadata": {
        "execution": {
          "iopub.execute_input": "2023-09-02T15:18:54.939263Z",
          "iopub.status.busy": "2023-09-02T15:18:54.938585Z",
          "iopub.status.idle": "2023-09-02T15:18:54.950617Z",
          "shell.execute_reply": "2023-09-02T15:18:54.949324Z",
          "shell.execute_reply.started": "2023-09-02T15:18:54.939228Z"
        },
        "id": "MBSE9_QQSWp0",
        "trusted": true
      },
      "outputs": [],
      "source": [
        "vggmodel.load_state_dict(vgg_best_weights)\n",
        "vggmodel.to(device)"
      ]
    },
    {
      "cell_type": "code",
      "execution_count": null,
      "metadata": {
        "execution": {
          "iopub.execute_input": "2023-09-02T15:19:01.786013Z",
          "iopub.status.busy": "2023-09-02T15:19:01.785295Z",
          "iopub.status.idle": "2023-09-02T15:27:50.653683Z",
          "shell.execute_reply": "2023-09-02T15:27:50.65272Z",
          "shell.execute_reply.started": "2023-09-02T15:19:01.785978Z"
        },
        "id": "XoUm61UeSWp9",
        "trusted": true
      },
      "outputs": [],
      "source": [
        "vggpredict = []\n",
        "vgglabel = []\n",
        "\n",
        "vggmodel.eval()\n",
        "confusion_matrix = torch.zeros(2, 2)\n",
        "with torch.no_grad():\n",
        "    correct = 0\n",
        "    total = 0\n",
        "    for images, labels in loader_test:\n",
        "        images = images.to(device)\n",
        "        labels = labels.to(device)\n",
        "        outputs = vggmodel(images)\n",
        "        _, predicted = torch.max(outputs.data, 1)\n",
        "        total += labels.size(0)\n",
        "        correct += (predicted == labels).sum().item()\n",
        "\n",
        "        vggpredict.extend(predicted)\n",
        "        vgglabel.extend(labels)\n",
        "\n",
        "        for t, p in zip(labels.view(-1), predicted.view(-1)):\n",
        "                confusion_matrix[t.long(), p.long()] += 1\n",
        "\n",
        "    print('Test Accuracy of the model on the test images: {} %'.format(100 * correct / total))"
      ]
    },
    {
      "cell_type": "code",
      "execution_count": null,
      "metadata": {
        "execution": {
          "iopub.execute_input": "2023-09-02T15:28:00.179832Z",
          "iopub.status.busy": "2023-09-02T15:28:00.179482Z",
          "iopub.status.idle": "2023-09-02T15:28:02.474268Z",
          "shell.execute_reply": "2023-09-02T15:28:02.473223Z",
          "shell.execute_reply.started": "2023-09-02T15:28:00.179802Z"
        },
        "id": "pz_DOvB-SWp-",
        "trusted": true
      },
      "outputs": [],
      "source": [
        "label_vgg = [tensor.cpu().numpy() for tensor in vgglabel]\n",
        "vgg_array = [tensor.cpu().numpy() for tensor in vggpredict]"
      ]
    },
    {
      "cell_type": "code",
      "execution_count": null,
      "metadata": {
        "execution": {
          "iopub.execute_input": "2023-09-02T15:28:05.125207Z",
          "iopub.status.busy": "2023-09-02T15:28:05.124818Z",
          "iopub.status.idle": "2023-09-02T15:28:05.419747Z",
          "shell.execute_reply": "2023-09-02T15:28:05.41863Z",
          "shell.execute_reply.started": "2023-09-02T15:28:05.125177Z"
        },
        "id": "Y1aeGnTave6N",
        "trusted": true
      },
      "outputs": [],
      "source": [
        "from sklearn.metrics import confusion_matrix, classification_report\n",
        "print(confusion_matrix(label_vgg, vgg_array))\n",
        "print(classification_report(label_vgg, vgg_array))"
      ]
    },
    {
      "cell_type": "code",
      "execution_count": null,
      "metadata": {
        "execution": {
          "iopub.execute_input": "2023-09-02T15:28:09.026623Z",
          "iopub.status.busy": "2023-09-02T15:28:09.025894Z",
          "iopub.status.idle": "2023-09-02T15:28:09.640189Z",
          "shell.execute_reply": "2023-09-02T15:28:09.639197Z",
          "shell.execute_reply.started": "2023-09-02T15:28:09.026579Z"
        },
        "id": "lBrWKGqUSWqE",
        "trusted": true
      },
      "outputs": [],
      "source": [
        "dfv = pd.DataFrame()\n",
        "dfv[\"vgg\"] = vgg_array\n",
        "dfv[\"label\"] = label_vgg\n",
        "dfv.head()\n",
        "dfv.to_csv('vgwithaug.csv')"
      ]
    },
    {
      "cell_type": "code",
      "execution_count": null,
      "metadata": {
        "execution": {
          "iopub.execute_input": "2023-09-02T15:28:12.949142Z",
          "iopub.status.busy": "2023-09-02T15:28:12.947984Z",
          "iopub.status.idle": "2023-09-02T15:28:15.301693Z",
          "shell.execute_reply": "2023-09-02T15:28:15.300791Z",
          "shell.execute_reply.started": "2023-09-02T15:28:12.949095Z"
        },
        "id": "0_li_mqUve6O",
        "trusted": true
      },
      "outputs": [],
      "source": [
        "torch.save({\n",
        "    'model_state_dict': vggmodel.state_dict(),\n",
        "    'optimizer_state_dict': optimizer.state_dict()\n",
        "}, 'checkpointvgg50withaug.pth')"
      ]
    }
  ],
  "metadata": {
    "colab": {
      "name": "Classification_retrain_VGG16",
      "provenance": []
    },
    "kaggle": {
      "accelerator": "none",
      "dataSources": [
        {
          "datasetId": 7415,
          "sourceId": 10564,
          "sourceType": "datasetVersion"
        }
      ],
      "isGpuEnabled": false,
      "isInternetEnabled": true,
      "language": "python",
      "sourceType": "notebook"
    },
    "kernelspec": {
      "display_name": "Python 3",
      "language": "python",
      "name": "python3"
    },
    "language_info": {
      "codemirror_mode": {
        "name": "ipython",
        "version": 3
      },
      "file_extension": ".py",
      "mimetype": "text/x-python",
      "name": "python",
      "nbconvert_exporter": "python",
      "pygments_lexer": "ipython3",
      "version": "3.12.2"
    }
  },
  "nbformat": 4,
  "nbformat_minor": 0
}
